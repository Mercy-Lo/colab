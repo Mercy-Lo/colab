{
 "cells": [
  {
   "cell_type": "markdown",
   "metadata": {
    "id": "OXOUGsRWbNCF"
   },
   "source": [
    "# Environment Configuration"
   ]
  },
  {
   "cell_type": "code",
   "execution_count": null,
   "metadata": {
    "id": "0GmAH-V8adwC"
   },
   "outputs": [],
   "source": [
    "from google.colab import drive\n",
    "drive.mount('/content/drive')\n",
    "from datetime import datetime\n",
    "\n",
    "from google.colab import auth\n",
    "from google.cloud import bigquery\n",
    "from gspread_dataframe import set_with_dataframe\n",
    "\n",
    "import gspread\n",
    "from oauth2client.client import GoogleCredentials\n",
    "from google.auth import default\n",
    "creds, _ = default()\n",
    "\n",
    "import pandas_gbq\n",
    "import time\n",
    "from datetime import datetime\n",
    "import time\n",
    "import random\n",
    "import json\n",
    "\n",
    "auth.authenticate_user()\n",
    "print('Authenticated')\n",
    "\n",
    "# Project Configuration\n",
    "project_id = 'foodpanda-tw-bigquery'\n",
    "client = bigquery.Client(project=project_id)"
   ]
  },
  {
   "cell_type": "code",
   "execution_count": null,
   "metadata": {
    "id": "8CZCG-RwanYF"
   },
   "outputs": [],
   "source": [
    "start_datetime = datetime.now()\n",
    "print(f\"Script started at: {start_datetime.strftime('%Y-%m-%d %H:%M:%S')}\")\n",
    "start_time = time.time()"
   ]
  },
  {
   "cell_type": "markdown",
   "metadata": {
    "id": "2Gqw6IJweLBz"
   },
   "source": [
    "# Hexagon Test Area"
   ]
  },
  {
   "cell_type": "code",
   "execution_count": null,
   "metadata": {
    "id": "puIvrfomblLI"
   },
   "outputs": [],
   "source": [
    "# zone_df （Taipei east zone)\n",
    "\n",
    "import pandas as pd\n",
    "from shapely.geometry import Polygon\n",
    "\n",
    "zone_df = client.query(f'''\n",
    "\n",
    "SELECT\n",
    "  zones.id AS zone_id,\n",
    "  zones.name AS zone_name,\n",
    "  zones.shape AS zone_shape\n",
    "FROM `fulfillment-dwh-production.curated_data_shared.countries` AS countries\n",
    "LEFT JOIN countries.cities AS cities\n",
    "LEFT JOIN cities.zones AS zones\n",
    "WHERE countries.country_code = \"tw\"\n",
    "  AND zones.is_active\n",
    "  AND zones.name = \"Taipei east\"\n",
    "''').to_dataframe()\n",
    "\n",
    "zone_df"
   ]
  },
  {
   "cell_type": "code",
   "execution_count": null,
   "metadata": {
    "id": "dzWQFi0ira2Q"
   },
   "outputs": [],
   "source": [
    "# 先在zone內每500m打一個座標點。\n",
    "import pandas as pd\n",
    "import geopandas as gpd\n",
    "import matplotlib.pyplot as plt\n",
    "import numpy as np\n",
    "from shapely.geometry import Polygon, Point\n",
    "from shapely.ops import transform\n",
    "import pyproj\n",
    "\n",
    "\n",
    "# 轉換字串為shapely Polygon對象的函數\n",
    "def wkt_to_polygon(wkt_str):\n",
    "    wkt_str = wkt_str.replace('POLYGON((', '').replace('))', '')\n",
    "    coordinates = [tuple(map(float, coord.split())) for coord in wkt_str.split(', ')]\n",
    "    return Polygon(coordinates)\n",
    "\n",
    "# 將zone_shape欄位轉換為Polygon對象\n",
    "zone_df['polygon'] = zone_df['zone_shape'].apply(wkt_to_polygon)\n",
    "\n",
    "# 創建 GeoDataFrame\n",
    "gdf = gpd.GeoDataFrame(geometry=zone_df['polygon'])\n",
    "\n",
    "# 設定投影（使用 WGS84）\n",
    "gdf = gdf.set_crs(epsg=4326)\n",
    "\n",
    "# 生成網格\n",
    "def generate_grid(polygon, spacing=1000):\n",
    "    # 轉換多邊形到 Web Mercator 投影\n",
    "    project = pyproj.Transformer.from_crs(4326, 3857, always_xy=True).transform\n",
    "    transformed_polygon = transform(project, polygon)\n",
    "\n",
    "    bounds = transformed_polygon.bounds\n",
    "    min_x, min_y, max_x, max_y = bounds\n",
    "    x_coords = np.arange(min_x, max_x, spacing)\n",
    "    y_coords = np.arange(min_y, max_y, spacing)\n",
    "    grid_points = []\n",
    "\n",
    "    for x in x_coords:\n",
    "        for y in y_coords:\n",
    "            point = Point(x, y)\n",
    "            if transformed_polygon.contains(point):\n",
    "                # 將點轉換回 WGS84\n",
    "                original_point = transform(pyproj.Transformer.from_crs(3857, 4326, always_xy=True).transform, point)\n",
    "                grid_points.append(original_point)\n",
    "\n",
    "    return grid_points\n",
    "\n",
    "# 生成網格點\n",
    "grid_points = []\n",
    "for polygon in gdf.geometry:\n",
    "    grid_points.extend(generate_grid(polygon))\n",
    "\n",
    "# 將網格點轉換為 GeoDataFrame\n",
    "grid_gdf = gpd.GeoDataFrame(geometry=grid_points)\n",
    "\n",
    "# 繪製多邊形和網格\n",
    "fig, ax = plt.subplots(figsize=(10, 10))\n",
    "gdf.boundary.plot(ax=ax, color='blue', linewidth=2, label='Polygon')  # 繪製多邊形邊界\n",
    "grid_gdf.plot(ax=ax, color='green', markersize=5, label='Grid Points')  # 繪製網格點\n",
    "\n",
    "# 設定圖例和標題\n",
    "plt.legend()\n",
    "plt.title('Polygon and Grid Points')\n",
    "plt.xlabel('Longitude')\n",
    "plt.ylabel('Latitude')\n",
    "plt.grid(True)\n",
    "plt.show()\n",
    "\n",
    "# # 列出所有網格的經緯度\n",
    "# grid_lat_long = [(point.y, point.x) for point in grid_gdf.geometry]\n",
    "# for lat, long in grid_lat_long:\n",
    "#     print(f'Latitude: {lat}, Longitude: {long}')"
   ]
  },
  {
   "cell_type": "code",
   "execution_count": null,
   "metadata": {
    "id": "RKD6w04TUiwa"
   },
   "outputs": [],
   "source": [
    "# 以台北東為例，畫出蜂巢圖。\n",
    "import pandas as pd\n",
    "import geopandas as gpd\n",
    "import matplotlib.pyplot as plt\n",
    "import numpy as np\n",
    "from shapely.geometry import Polygon, Point\n",
    "from shapely.ops import transform\n",
    "import pyproj\n",
    "\n",
    "# 轉換字串為shapely Polygon對象的函數\n",
    "def wkt_to_polygon(wkt_str):\n",
    "    wkt_str = wkt_str.replace('POLYGON((', '').replace('))', '')\n",
    "    coordinates = [tuple(map(float, coord.split())) for coord in wkt_str.split(', ')]\n",
    "    return Polygon(coordinates)\n",
    "\n",
    "# 將zone_shape欄位轉換為Polygon對象\n",
    "zone_df['polygon'] = zone_df['zone_shape'].apply(wkt_to_polygon)\n",
    "\n",
    "# 創建 GeoDataFrame\n",
    "gdf = gpd.GeoDataFrame(geometry=zone_df['polygon'])\n",
    "\n",
    "# 設定投影（使用 WGS84）\n",
    "gdf = gdf.set_crs(epsg=4326)\n",
    "\n",
    "# 函數：根據中心點生成旋轉30度的六邊形\n",
    "def create_rotated_hexagon(center, size=125):\n",
    "    \"\"\"Create a pointy-topped hexagon centered at the specified point with a given size.\"\"\"\n",
    "    angle_offset = np.pi / 6  # 將角度旋轉 30 度\n",
    "    angle = np.linspace(0, 2 * np.pi, 7)  # 六個邊 + 一個點來閉合六邊形\n",
    "    hexagon = [\n",
    "        (center.x + size * np.cos(a + angle_offset), center.y + size * np.sin(a + angle_offset))\n",
    "        for a in angle\n",
    "    ]\n",
    "    return Polygon(hexagon)\n",
    "\n",
    "# 生成蜂巢結構的六邊形網格\n",
    "def generate_hex_grid(polygon, hex_size=250, spacing=500):  # 邊長250米，寬度約500米\n",
    "    project = pyproj.Transformer.from_crs(4326, 3857, always_xy=True).transform\n",
    "    transformed_polygon = transform(project, polygon)\n",
    "\n",
    "    bounds = transformed_polygon.bounds\n",
    "    min_x, min_y, max_x, max_y = bounds\n",
    "    grid_points = []\n",
    "\n",
    "    row = 0\n",
    "    for y in np.arange(min_y, max_y, spacing * np.sqrt(3) / 2):\n",
    "        offset = (row % 2) * (spacing / 2)  # 奇數行的水平偏移\n",
    "        for x in np.arange(min_x + offset, max_x, spacing):\n",
    "            point = Point(x, y)\n",
    "            if transformed_polygon.contains(point):\n",
    "                original_point = transform(pyproj.Transformer.from_crs(3857, 4326, always_xy=True).transform, point)\n",
    "                grid_points.append(original_point)\n",
    "        row += 1\n",
    "\n",
    "    return grid_points\n",
    "\n",
    "# 生成網格點\n",
    "grid_points = []\n",
    "for polygon in gdf.geometry:\n",
    "    grid_points.extend(generate_hex_grid(polygon))\n",
    "\n",
    "# 將網格點轉換為 GeoDataFrame\n",
    "grid_gdf = gpd.GeoDataFrame(geometry=grid_points)\n",
    "\n",
    "# 生成蜂巢排列的六邊形\n",
    "hexagons = []\n",
    "hexagon_size = 250  # 邊長250米，寬度約500米\n",
    "for point in grid_gdf.geometry:\n",
    "    mercator_point = transform(pyproj.Transformer.from_crs(4326, 3857, always_xy=True).transform, point)\n",
    "    hexagon = create_rotated_hexagon(mercator_point, size=hexagon_size)\n",
    "    hexagon = transform(pyproj.Transformer.from_crs(3857, 4326, always_xy=True).transform, hexagon)\n",
    "    hexagons.append(hexagon)\n",
    "\n",
    "# 將六邊形轉換為 GeoDataFrame\n",
    "hexagons_gdf = gpd.GeoDataFrame(geometry=hexagons)\n",
    "\n",
    "# 創建 'x' 和 'y' 列，分別表示網格點的經度和緯度\n",
    "grid_gdf['x'] = grid_gdf.geometry.apply(lambda point: point.x)\n",
    "grid_gdf['y'] = grid_gdf.geometry.apply(lambda point: point.y)\n",
    "\n",
    "# 對網格點進行排序並編號，先按緯度（y）再按經度（x）\n",
    "grid_gdf = grid_gdf.sort_values(by=['y', 'x'], ascending=[False, True])\n",
    "grid_gdf['number_of_point'] = range(1, len(grid_gdf) + 1)\n",
    "\n",
    "# 添加zone_id和zone_name\n",
    "grid_gdf['zone_id'] = zone_df['zone_id'].iloc[0]\n",
    "grid_gdf['zone_name'] = zone_df['zone_name'].iloc[0]\n",
    "\n",
    "# 添加hexagon_shape\n",
    "grid_gdf['hexagon_shape'] = hexagons_gdf['geometry']\n",
    "\n",
    "# 創建最終的DataFrame\n",
    "final_df = grid_gdf[['zone_id', 'zone_name', 'number_of_point', 'y', 'x', 'hexagon_shape']]\n",
    "final_df.columns = ['zone_id', 'zone_name', 'number_of_point', 'latitude', 'longitude', 'hexagon_shape']\n",
    "\n",
    "# 繪製多邊形、網格和六邊形\n",
    "fig, ax = plt.subplots(figsize=(10, 10))\n",
    "gdf.boundary.plot(ax=ax, color='blue', linewidth=2, label='Polygon')  # 繪製多邊形邊界\n",
    "hexagons_gdf.boundary.plot(ax=ax, color='red', linewidth=1, label='Hexagons')  # 繪製六邊形邊界\n",
    "grid_gdf.plot(ax=ax, color='green', markersize=5, label='Grid Points')  # 繪製網格點\n",
    "\n",
    "# 在圖上顯示編號\n",
    "for x, y, label in zip(grid_gdf['x'], grid_gdf['y'], grid_gdf['number_of_point']):\n",
    "    ax.text(x, y, str(label), fontsize=8, ha='center', va='center', color='black')\n",
    "\n",
    "# 設定圖例和標題\n",
    "plt.legend()\n",
    "plt.title('Polygon, Grid Points, and Hexagonal Grid (Honeycomb)')\n",
    "plt.xlabel('Longitude')\n",
    "plt.ylabel('Latitude')\n",
    "plt.grid(True)\n",
    "plt.show()\n",
    "\n",
    "# print(final_df)"
   ]
  },
  {
   "cell_type": "markdown",
   "metadata": {
    "id": "LwPD7KRKbrvc"
   },
   "source": [
    "# Main Script for Hexagon"
   ]
  },
  {
   "cell_type": "code",
   "execution_count": null,
   "metadata": {
    "id": "atIqn1ofby8T"
   },
   "outputs": [],
   "source": [
    "# zone_df\n",
    "\n",
    "import pandas as pd\n",
    "from shapely.geometry import Polygon\n",
    "\n",
    "zone_df = client.query(f'''\n",
    "\n",
    "SELECT\n",
    "  zones.id AS zone_id,\n",
    "  zones.name AS zone_name,\n",
    "  zones.shape AS zone_shape\n",
    "FROM `fulfillment-dwh-production.curated_data_shared.countries` AS countries\n",
    "LEFT JOIN countries.cities AS cities\n",
    "LEFT JOIN cities.zones AS zones\n",
    "WHERE countries.country_code = \"tw\"\n",
    "  AND zones.is_active\n",
    "  AND zones.name IN (\"Fengyuan\",\"West taichung\",\"Dajia\")\n",
    "\n",
    "''').to_dataframe()\n",
    "\n",
    "zone_df"
   ]
  },
  {
   "cell_type": "code",
   "execution_count": null,
   "metadata": {
    "id": "cGieA4a8_-0e"
   },
   "outputs": [],
   "source": [
    "import pandas as pd\n",
    "import geopandas as gpd\n",
    "import matplotlib.pyplot as plt\n",
    "import numpy as np\n",
    "from shapely.geometry import Polygon, Point\n",
    "from shapely.ops import transform\n",
    "import pyproj\n",
    "\n",
    "# 轉換字串為shapely Polygon對象的函數\n",
    "def wkt_to_polygon(wkt_str):\n",
    "    wkt_str = wkt_str.replace('POLYGON((', '').replace('))', '').replace(')', '').replace('(', '')\n",
    "    coordinates = [tuple(map(float, coord.split())) for coord in wkt_str.split(', ')]\n",
    "    return Polygon(coordinates)\n",
    "\n",
    "# 將zone_shape欄位轉換為Polygon對象\n",
    "zone_df['polygon'] = zone_df['zone_shape'].apply(wkt_to_polygon)\n",
    "\n",
    "# 創建 GeoDataFrame\n",
    "gdf = gpd.GeoDataFrame(zone_df, geometry=zone_df['polygon'])\n",
    "\n",
    "# 設定投影（使用 WGS84）\n",
    "gdf = gdf.set_crs(epsg=4326)\n",
    "\n",
    "# 函數：根據中心點生成旋轉30度的六邊形\n",
    "def create_rotated_hexagon(center, size=100):  # 邊長100米，寬度約200米\n",
    "    angle_offset = np.pi / 6  # 將角度旋轉 30 度\n",
    "    angle = np.linspace(0, 2 * np.pi, 7)  # 六個邊 + 一個點來閉合六邊形\n",
    "    hexagon = [\n",
    "        (center.x + size * np.cos(a + angle_offset), center.y + size * np.sin(a + angle_offset))\n",
    "        for a in angle\n",
    "    ]\n",
    "    return Polygon(hexagon)\n",
    "\n",
    "# 生成蜂巢結構的六邊形網格\n",
    "def generate_hex_grid(polygon, hex_size=100, spacing=200):  # 邊長100米，寬度約200米\n",
    "    project = pyproj.Transformer.from_crs(4326, 3857, always_xy=True).transform\n",
    "    transformed_polygon = transform(project, polygon)\n",
    "\n",
    "    bounds = transformed_polygon.bounds\n",
    "    min_x, min_y, max_x, max_y = bounds\n",
    "    grid_points = []\n",
    "\n",
    "    row = 0\n",
    "    for y in np.arange(min_y, max_y, spacing * np.sqrt(3) / 2):\n",
    "        offset = (row % 2) * (spacing / 2)  # 奇數行的水平偏移\n",
    "        for x in np.arange(min_x + offset, max_x, spacing):\n",
    "            point = Point(x, y)\n",
    "            if transformed_polygon.contains(point):\n",
    "                original_point = transform(pyproj.Transformer.from_crs(3857, 4326, always_xy=True).transform, point)\n",
    "                grid_points.append(original_point)\n",
    "        row += 1\n",
    "\n",
    "    return grid_points\n",
    "\n",
    "# 生成網格點\n",
    "grid_points = []  # 確保 grid_points 被初始化\n",
    "grid_zone_id = []  # 初始化zone_id\n",
    "grid_zone_name = []  # 初始化zone_name\n",
    "\n",
    "for idx, polygon in gdf.iterrows():\n",
    "    points = generate_hex_grid(polygon['geometry'])\n",
    "    grid_points.extend(points)\n",
    "    grid_zone_id.extend([polygon['zone_id']] * len(points))\n",
    "    grid_zone_name.extend([polygon['zone_name']] * len(points))\n",
    "\n",
    "# 將網格點轉換為 GeoDataFrame\n",
    "grid_gdf = gpd.GeoDataFrame(geometry=grid_points)\n",
    "\n",
    "# 添加zone_id和zone_name到grid_gdf\n",
    "grid_gdf['zone_id'] = grid_zone_id\n",
    "grid_gdf['zone_name'] = grid_zone_name\n",
    "\n",
    "# 生成蜂巢排列的六邊形\n",
    "hexagons = []\n",
    "hexagon_size = 100  # 邊長100米，寬度約200米\n",
    "for point in grid_gdf.geometry:\n",
    "    mercator_point = transform(pyproj.Transformer.from_crs(4326, 3857, always_xy=True).transform, point)\n",
    "    hexagon = create_rotated_hexagon(mercator_point, size=hexagon_size)\n",
    "    hexagon = transform(pyproj.Transformer.from_crs(3857, 4326, always_xy=True).transform, hexagon)\n",
    "    hexagons.append(hexagon)\n",
    "\n",
    "# 將六邊形轉換為 GeoDataFrame\n",
    "hexagons_gdf = gpd.GeoDataFrame(geometry=hexagons)\n",
    "\n",
    "# 創建 'x' 和 'y' 列，分別表示網格點的經度和緯度\n",
    "grid_gdf['x'] = grid_gdf.geometry.apply(lambda point: point.x)\n",
    "grid_gdf['y'] = grid_gdf.geometry.apply(lambda point: point.y)\n",
    "\n",
    "# 按 zone_id、y、x 排序\n",
    "grid_gdf = grid_gdf.sort_values(by=['zone_id', 'y', 'x'], ascending=[True, False, True])\n",
    "\n",
    "# 為每個 zone_id 內部編號\n",
    "grid_gdf['number_of_point'] = grid_gdf.groupby('zone_id').cumcount() + 1\n",
    "\n",
    "# 添加hexagon_shape和hex_size\n",
    "grid_gdf['hexagon_shape'] = hexagons_gdf['geometry']\n",
    "grid_gdf['hex_size'] = hexagon_size\n",
    "\n",
    "# 創建最終的DataFrame\n",
    "final_df = grid_gdf[['zone_id', 'zone_name', 'number_of_point', 'y', 'x', 'hexagon_shape', 'hex_size']]\n",
    "final_df.columns = ['zone_id', 'zone_name', 'number_of_point', 'latitude', 'longitude', 'hexagon_shape', 'hex_size']\n",
    "\n",
    "# 繪製多邊形、網格和六邊形\n",
    "fig, ax = plt.subplots(figsize=(10, 10))\n",
    "gdf.boundary.plot(ax=ax, color='blue', linewidth=2, label='Polygon')  # 繪製多邊形邊界\n",
    "hexagons_gdf.boundary.plot(ax=ax, color='red', linewidth=1, label='Hexagons')  # 繪製六邊形邊界\n",
    "grid_gdf.plot(ax=ax, color='green', markersize=5, label='Grid Points')  # 繪製網格點\n",
    "\n",
    "# 在圖上顯示編號\n",
    "for x, y, label in zip(grid_gdf['x'], grid_gdf['y'], grid_gdf['number_of_point']):\n",
    "    ax.text(x, y, str(label), fontsize=8, ha='center', va='center', color='black')\n",
    "\n",
    "# 設定圖例和標題\n",
    "plt.legend()\n",
    "plt.title('Polygon, Grid Points, and Hexagonal Grid (Honeycomb)')\n",
    "plt.xlabel('Longitude')\n",
    "plt.ylabel('Latitude')\n",
    "plt.grid(True)\n",
    "plt.show()\n"
   ]
  },
  {
   "cell_type": "code",
   "execution_count": null,
   "metadata": {
    "id": "eNjioh3F8gq0"
   },
   "outputs": [],
   "source": [
    "final_df"
   ]
  },
  {
   "cell_type": "code",
   "execution_count": null,
   "metadata": {
    "id": "JKrwjuOFDoKF"
   },
   "outputs": [],
   "source": [
    "pip install simplekml"
   ]
  },
  {
   "cell_type": "code",
   "execution_count": null,
   "metadata": {
    "id": "qdAKyifkZyed"
   },
   "outputs": [],
   "source": [
    "import simplekml\n",
    "from shapely import wkt\n",
    "\n",
    "# 創建KML檔案\n",
    "kml = simplekml.Kml()\n",
    "\n",
    "for idx, row in final_df.iterrows():\n",
    "    hexagon = row['hexagon_shape']\n",
    "    hexagon_name = f\"{row['zone_name']}_{row['zone_id']}_{row['number_of_point']}_{row['hex_size']}m\"\n",
    "    description = f\"zone_id: {row['zone_id']}<br>zone_name: {row['zone_name']}<br>number_of_point: {row['number_of_point']}<br>latitude: {row['latitude']}<br>longitude: {row['longitude']}<br>hex_size: {row['hex_size']}m\"\n",
    "\n",
    "    # 添加六邊形到KML\n",
    "    pol = kml.newpolygon(name=hexagon_name, description=description)\n",
    "    pol.outerboundaryis = [(x, y) for x, y in hexagon.exterior.coords]\n",
    "    pol.style.polystyle.color = 'ff0000ff'  # 藍色\n",
    "    pol.style.polystyle.fill = 1\n",
    "    pol.style.polystyle.outline = 1\n",
    "\n",
    "# 儲存為KML文件\n",
    "kml.save('/content/drive/MyDrive/hexagonal_grid_300.kml')"
   ]
  },
  {
   "cell_type": "markdown",
   "metadata": {
    "id": "nhZNFXMNa6p2"
   },
   "source": [
    "# Upload dataframe to GCP"
   ]
  },
  {
   "cell_type": "code",
   "execution_count": null,
   "metadata": {
    "id": "ED_t4WOOaomB"
   },
   "outputs": [],
   "source": [
    "# !pip install pandas_gbq==0.20.0"
   ]
  },
  {
   "cell_type": "code",
   "execution_count": null,
   "metadata": {
    "id": "CkMORzYYaohM"
   },
   "outputs": [],
   "source": [
    "import pandas as pd\n",
    "from datetime import datetime\n",
    "import json\n",
    "import google.oauth2.credentials\n",
    "import pandas_gbq"
   ]
  },
  {
   "cell_type": "code",
   "execution_count": null,
   "metadata": {
    "id": "JT1OZEqaaofH"
   },
   "outputs": [],
   "source": [
    "with open('/content/drive/MyDrive/user_account.json') as f:\n",
    "    credential = json.load(f)\n",
    "\n",
    "credentials = google.oauth2.credentials.Credentials(\n",
    "    credential['token'],\n",
    "    refresh_token=credential['refresh_token'],\n",
    "    token_uri=credential['token_uri'],\n",
    "    client_id=credential['client_id'],\n",
    "    client_secret=credential['client_secret']\n",
    ")"
   ]
  },
  {
   "cell_type": "code",
   "execution_count": null,
   "metadata": {
    "id": "eqcxGIIRgfiF"
   },
   "outputs": [],
   "source": [
    "pip install shapely"
   ]
  },
  {
   "cell_type": "code",
   "execution_count": null,
   "metadata": {
    "id": "zAWmWTrGgPO9"
   },
   "outputs": [],
   "source": [
    "import pandas as pd\n",
    "from shapely.geometry import Polygon, MultiPolygon\n",
    "\n",
    "# 假設 final_df 是你的 DataFrame，並且 hexagon_shape 欄位包含 polygon 資料\n",
    "# 使用 .loc 來避免 SettingWithCopyWarning\n",
    "final_df.loc[:, 'hexagon_shape'] = final_df['hexagon_shape'].apply(lambda x: str(x))\n",
    "\n",
    "# # 檢查結果\n",
    "# print(final_df['hexagon_shape'])"
   ]
  },
  {
   "cell_type": "code",
   "execution_count": null,
   "metadata": {
    "id": "FoaYgVAGaodA"
   },
   "outputs": [],
   "source": [
    "import pandas_gbq\n",
    "\n",
    "# Set credentials and project context for pandas_gbq\n",
    "pandas_gbq.context.credentials = credentials\n",
    "pandas_gbq.context.project = 'database_name'\n",
    "\n",
    "# Specify project and table\n",
    "project_id = \"database_name\"\n",
    "table_id = 'table_name'\n",
    "\n",
    "# Upload the DataFrame to BigQuery using pandas_gbq.to_gbq\n",
    "pandas_gbq.to_gbq(\n",
    "    final_df,\n",
    "    destination_table=table_id,\n",
    "    project_id=project_id,\n",
    "    credentials=credentials,\n",
    "    if_exists='append'\n",
    ")\n",
    "\n",
    "print(f\"Data has been uploaded to BigQuery table '{table_id}'.\")\n"
   ]
  },
  {
   "cell_type": "code",
   "execution_count": null,
   "metadata": {
    "id": "m87syqR2aoZL"
   },
   "outputs": [],
   "source": [
    "end_time = time.time()\n",
    "execution_time_seconds = end_time - start_time\n",
    "execution_time_minutes = execution_time_seconds / 60\n",
    "print(f\"Script completed in {execution_time_minutes:.2f} minutes.\")"
   ]
  },
  {
   "cell_type": "code",
   "execution_count": null,
   "metadata": {
    "id": "h-MIEP5AEXlI"
   },
   "outputs": [],
   "source": [
    "import simplekml\n",
    "from shapely import wkt\n",
    "\n",
    "# Create KML object\n",
    "kml = simplekml.Kml()\n",
    "\n",
    "# Iterate through the DataFrame rows\n",
    "for idx, row in final_df.iterrows():\n",
    "    # Convert the hexagon_shape (WKT) string to a Shapely polygon\n",
    "    hexagon = wkt.loads(row['hexagon_shape'])\n",
    "\n",
    "    # Create a name and description for the hexagon\n",
    "    hexagon_name = f\"{row['zone_name']}_{row['zone_id']}_{row['number_of_point']}_{row['hex_size']}m\"\n",
    "    description = f\"zone_id: {row['zone_id']}<br>zone_name: {row['zone_name']}<br>number_of_point: {row['number_of_point']}<br>latitude: {row['latitude']}<br>longitude: {row['longitude']}<br>hex_size: {row['hex_size']}m\"\n",
    "\n",
    "    # Create a KML polygon for the hexagon\n",
    "    pol = kml.newpolygon(name=hexagon_name, description=description)\n",
    "\n",
    "    # Add hexagon's outer boundary coordinates to KML\n",
    "    pol.outerboundaryis = [(x, y) for x, y in hexagon.exterior.coords]\n",
    "\n",
    "    # Optional: Set the style for the polygon (e.g., blue fill color)\n",
    "    pol.style.polystyle.color = 'ff0000ff'  # Blue color in KML (AABBGGRR format)\n",
    "    pol.style.polystyle.fill = 1\n",
    "\n",
    "# Save the KML file\n",
    "kml.save(\"/content/drive/MyDrive/doc_for_colab/hexagonal_grid_100.kml\")\n",
    "print(\"KML file 'hexagons.kml' has been created.\")\n"
   ]
  }
 ],
 "metadata": {
  "colab": {
   "private_outputs": true,
   "provenance": []
  },
  "kernelspec": {
   "display_name": "Python 3",
   "name": "python3"
  },
  "language_info": {
   "name": "python"
  }
 },
 "nbformat": 4,
 "nbformat_minor": 0
}
