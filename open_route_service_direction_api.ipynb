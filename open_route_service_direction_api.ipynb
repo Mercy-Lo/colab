{
 "cells": [
  {
   "cell_type": "markdown",
   "metadata": {
    "id": "qeZXM0ZyszRS"
   },
   "source": [
    "# Environment Configuration"
   ]
  },
  {
   "cell_type": "code",
   "execution_count": null,
   "metadata": {
    "id": "D6sHuJ4PE6Ze"
   },
   "outputs": [],
   "source": [
    "!pip install --upgrade gspread google-auth"
   ]
  },
  {
   "cell_type": "code",
   "execution_count": null,
   "metadata": {
    "id": "Iuw50fznq2En"
   },
   "outputs": [],
   "source": [
    "from google.colab import drive\n",
    "drive.mount('/content/drive')\n",
    "import pandas as pd\n",
    "import numpy as np\n",
    "from datetime import datetime\n",
    "\n",
    "from google.colab import auth\n",
    "from google.cloud import bigquery\n",
    "from gspread_dataframe import set_with_dataframe\n",
    "\n",
    "import gspread\n",
    "from oauth2client.client import GoogleCredentials\n",
    "from google.auth import default\n",
    "creds, _ = default()\n",
    "\n",
    "import pandas_gbq\n",
    "from tqdm import tqdm\n",
    "import time\n",
    "from datetime import datetime\n",
    "import time\n",
    "import random\n",
    "import json\n",
    "import requests\n",
    "import random\n",
    "from datetime import datetime\n",
    "import pytz\n",
    "\n",
    "auth.authenticate_user()\n",
    "print('Authenticated')\n",
    "\n",
    "# Project Configuration\n",
    "project_id = 'foodpanda-tw-bigquery'\n",
    "client = bigquery.Client(project=project_id)"
   ]
  },
  {
   "cell_type": "code",
   "execution_count": null,
   "metadata": {
    "id": "Z20K3ghwrCVQ"
   },
   "outputs": [],
   "source": [
    "# Initialize timezone for Taiwan\n",
    "taiwan_tz = pytz.timezone('Asia/Taipei')"
   ]
  },
  {
   "cell_type": "code",
   "execution_count": null,
   "metadata": {
    "id": "QEN4j4R8rE-g"
   },
   "outputs": [],
   "source": [
    "# Get current date and time in Taiwan Time\n",
    "start_datetime = datetime.now(taiwan_tz)\n",
    "start_time = time.time()"
   ]
  },
  {
   "cell_type": "code",
   "execution_count": null,
   "metadata": {
    "id": "1FeMa8mErGjg"
   },
   "outputs": [],
   "source": [
    "# Print the start date and time\n",
    "print(f\"Script started at: {start_datetime.strftime('%Y-%m-%d %H:%M:%S %Z')}\")"
   ]
  },
  {
   "cell_type": "markdown",
   "metadata": {
    "id": "9OI3OYLEsmTW"
   },
   "source": [
    "# Open Route API Test Area"
   ]
  },
  {
   "cell_type": "code",
   "execution_count": null,
   "metadata": {
    "id": "40DAgf9nspvk"
   },
   "outputs": [],
   "source": [
    "api_key = \"open_route_api_key\"\n",
    "\n",
    "coordinates = [[121.2959933,25.009717], [121.2572352,25.0022033]]\n",
    "\n",
    "url = \"https://api.openrouteservice.org/v2/directions/cycling-electric\"\n",
    "\n",
    "payload = {\n",
    "    \"coordinates\": coordinates,\n",
    "    \"units\": \"m\"\n",
    "}\n",
    "\n",
    "headers = {\n",
    "    \"Authorization\": api_key,\n",
    "    \"Content-Type\": \"application/json\"\n",
    "}\n",
    "\n",
    "response = requests.post(url, json=payload, headers=headers)\n",
    "\n",
    "data = response.json()\n",
    "\n",
    "print(data)\n",
    "\n",
    "duration_seconds = data['routes'][0]['summary']['duration']\n",
    "distance_meters = data['routes'][0]['summary']['distance']\n",
    "\n",
    "duration_minutes = duration_seconds / 60\n",
    "\n",
    "print(f\"兩點之間使用電動腳踏車的交通時間是: {duration_minutes} 分鐘, 路徑是 {distance_meters} 公尺\")\n"
   ]
  },
  {
   "cell_type": "markdown",
   "metadata": {
    "id": "UUVYcNn0srDZ"
   },
   "source": [
    "# [Main Script] Drive time for UE McDonlad Delivery Area"
   ]
  },
  {
   "cell_type": "code",
   "execution_count": null,
   "metadata": {
    "id": "4Qb2EMSXC843"
   },
   "outputs": [],
   "source": [
    "from google.colab import auth\n",
    "auth.authenticate_user()\n",
    "\n",
    "import gspread\n",
    "from google.auth import default\n",
    "\n",
    "# 授權Google Sheets API訪問\n",
    "creds, _ = default()\n",
    "gc = gspread.authorize(creds)"
   ]
  },
  {
   "cell_type": "code",
   "execution_count": null,
   "metadata": {
    "id": "IqfNj-CXDP9F"
   },
   "outputs": [],
   "source": [
    "# 使用Google Sheet的URL或者名稱\n",
    "spreadsheet_url = 'https://docs.google.com/spreadsheets/link'\n",
    "\n",
    "# 打開Google Sheet\n",
    "spreadsheet = gc.open_by_url(spreadsheet_url)\n",
    "\n",
    "# 選擇你想要操作的工作表\n",
    "worksheet = spreadsheet.worksheet(\"01\")"
   ]
  },
  {
   "cell_type": "code",
   "execution_count": null,
   "metadata": {
    "id": "Z5-F9aE_DA25"
   },
   "outputs": [],
   "source": [
    "# 讀取工作表的所有數據\n",
    "rows = worksheet.get_all_values()\n",
    "\n",
    "# 將數據轉換為Pandas DataFrame\n",
    "import pandas as pd\n",
    "df = pd.DataFrame(rows[1:], columns=rows[0])  # 第一行是列名\n",
    "\n",
    "# 顯示數據\n",
    "df"
   ]
  },
  {
   "cell_type": "code",
   "execution_count": null,
   "metadata": {
    "id": "myYknpHqHj4B"
   },
   "outputs": [],
   "source": [
    "# 將指定的欄位轉換為浮點數類型\n",
    "df['latitude'] = df['latitude'].astype(float)\n",
    "df['longitude'] = df['longitude'].astype(float)\n",
    "df['scraping_latitude'] = df['scraping_latitude'].astype(float)\n",
    "df['scraping_longitude'] = df['scraping_longitude'].astype(float)"
   ]
  },
  {
   "cell_type": "code",
   "execution_count": null,
   "metadata": {
    "id": "YBNOP_DAaNk9"
   },
   "outputs": [],
   "source": [
    "# drive_time & distance\n",
    "\n",
    "api_key = \"open_route_api_key\"\n",
    "\n",
    "def calculate_drive_time_and_distance(vendor_lat, vendor_lon, scraping_lat, scraping_lon):\n",
    "    coordinates = [[vendor_lon, vendor_lat], [scraping_lon, scraping_lat]]\n",
    "\n",
    "    url = \"https://api.openrouteservice.org/v2/directions/cycling-electric\"\n",
    "\n",
    "    payload = {\n",
    "        \"coordinates\": coordinates,\n",
    "        \"units\": \"m\"\n",
    "    }\n",
    "\n",
    "    headers = {\n",
    "        \"Authorization\": api_key,\n",
    "        \"Content-Type\": \"application/json\"\n",
    "    }\n",
    "\n",
    "    response = requests.post(url, json=payload, headers=headers)\n",
    "\n",
    "    if response.status_code == 200:\n",
    "        data = response.json()\n",
    "        duration_seconds = data['routes'][0]['summary']['duration']\n",
    "        distance_meters = data['routes'][0]['summary']['distance']\n",
    "\n",
    "        # Calculate drive time in minutes\n",
    "        drive_time = duration_seconds / 60\n",
    "        return drive_time, distance_meters\n",
    "    else:\n",
    "        print(f\"Error: {response.status_code}\")\n",
    "        return None, None\n",
    "\n",
    "# Initialize lists to store drive_time and distance\n",
    "drive_times = []\n",
    "distances = []\n",
    "\n",
    "for index, row in df.iterrows():\n",
    "    drive_time, distance = calculate_drive_time_and_distance(\n",
    "        row['latitude'], row['longitude'],\n",
    "        row['scraping_latitude'], row['scraping_longitude']\n",
    "    )\n",
    "\n",
    "    drive_times.append(drive_time)\n",
    "    distances.append(distance)\n",
    "\n",
    "    time.sleep(1.5)  # To avoid hitting the rate limit\n",
    "\n",
    "# Add drive_time and distance to the DataFrame\n",
    "df['drive_time'] = drive_times\n",
    "df['distance'] = distances\n"
   ]
  },
  {
   "cell_type": "code",
   "execution_count": null,
   "metadata": {
    "id": "bKqZ5FPn7c8E"
   },
   "outputs": [],
   "source": [
    "df"
   ]
  },
  {
   "cell_type": "code",
   "execution_count": null,
   "metadata": {
    "id": "hNNPuMbL7adS"
   },
   "outputs": [],
   "source": [
    "# 將結果儲存回CSV檔案\n",
    "df.to_csv('/content/drive/MyDrive/aaa.csv', index=False)\n",
    "\n",
    "print(\"計算完成，已將結果儲存到新的CSV檔案。\")"
   ]
  },
  {
   "cell_type": "code",
   "execution_count": null,
   "metadata": {
    "id": "NZNcHVDZFDH4"
   },
   "outputs": [],
   "source": [
    "import pandas as pd\n",
    "import gspread\n",
    "from google.colab import auth\n",
    "from google.auth import default\n",
    "\n",
    "# 授權並連接到 Google Sheets API\n",
    "auth.authenticate_user()\n",
    "creds, _ = default()\n",
    "gc = gspread.authorize(creds)\n",
    "\n",
    "# 打開Google Sheet\n",
    "spreadsheet_url = 'https://docs.google.com/spreadsheets/link'\n",
    "spreadsheet = gc.open_by_url(spreadsheet_url)\n",
    "\n",
    "# 選擇你要覆寫的工作表 \"02\"\n",
    "worksheet_02 = spreadsheet.worksheet(\"02\")\n",
    "\n",
    "# 生成你的DataFrame (假設 df 是你的結果表)\n",
    "# 例如：這裡是你前面的df\n",
    "data = [df.columns.values.tolist()] + df.values.tolist()\n",
    "\n",
    "# 清空工作表（選擇性步驟）\n",
    "worksheet_02.clear()\n",
    "\n",
    "# 將數據寫入到工作表 \"02\"，從A1單元格開始\n",
    "worksheet_02.update('A1', data)\n",
    "\n",
    "print(\"Data has been overwritten to sheet '02'.\")\n"
   ]
  },
  {
   "cell_type": "code",
   "execution_count": null,
   "metadata": {
    "id": "hsYVYVrFr-SJ"
   },
   "outputs": [],
   "source": [
    "end_time = time.time()\n",
    "execution_time = end_time - start_time\n",
    "print(f\"Total execution time: {execution_time:.2f} seconds\")"
   ]
  },
  {
   "cell_type": "markdown",
   "metadata": {
    "id": "5VyKIAXFrEh3"
   },
   "source": []
  }
 ],
 "metadata": {
  "colab": {
   "private_outputs": true,
   "provenance": []
  },
  "kernelspec": {
   "display_name": "Python 3",
   "name": "python3"
  },
  "language_info": {
   "name": "python"
  }
 },
 "nbformat": 4,
 "nbformat_minor": 0
}
