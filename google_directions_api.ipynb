{
 "cells": [
  {
   "cell_type": "markdown",
   "metadata": {
    "id": "yqUn0UmJBfP_"
   },
   "source": [
    "# Environment Configuration"
   ]
  },
  {
   "cell_type": "code",
   "execution_count": null,
   "metadata": {
    "id": "z9RxYNGDBdgW"
   },
   "outputs": [],
   "source": [
    "from google.colab import drive\n",
    "drive.mount('/content/drive')\n",
    "import pandas as pd\n",
    "import numpy as np\n",
    "from scipy import stats\n",
    "from datetime import datetime\n",
    "from itertools import product\n",
    "\n",
    "from google.colab import auth\n",
    "from google.cloud import bigquery\n",
    "from gspread_dataframe import set_with_dataframe\n",
    "\n",
    "import gspread\n",
    "from oauth2client.client import GoogleCredentials\n",
    "from google.auth import default\n",
    "creds, _ = default()\n",
    "\n",
    "import pandas_gbq\n",
    "from tqdm import tqdm\n",
    "import time\n",
    "from datetime import datetime\n",
    "from shapely.geometry import Point, Polygon\n",
    "import time\n",
    "import random\n",
    "import json\n",
    "\n",
    "auth.authenticate_user()\n",
    "print('Authenticated')\n",
    "\n",
    "# Project Configuration\n",
    "project_id = 'database_name'\n",
    "client = bigquery.Client(project=project_id)"
   ]
  },
  {
   "cell_type": "markdown",
   "metadata": {
    "id": "2KKJGitV9u4b"
   },
   "source": [
    "# Google Map API Test Area\n",
    "\n"
   ]
  },
  {
   "cell_type": "code",
   "execution_count": null,
   "metadata": {
    "id": "e1chUD179s5n"
   },
   "outputs": [],
   "source": [
    "import requests\n",
    "\n",
    "f = open('/content/drive/MyDrive/google_key.json')\n",
    "google_key = json.load(f)\n",
    "\n",
    "# 設定Google Maps API金鑰\n",
    "api_key = google_key['X-Goog-Api-Key_4']\n",
    "\n",
    "# 設定起點和終點座標\n",
    "origin = '37.419734,-122.0827784'\n",
    "destination = '37.417670,-122.079595'\n",
    "\n",
    "# 構建API請求URL\n",
    "url = f'https://maps.googleapis.com/maps/api/directions/json?origin={origin}&destination={destination}&mode=driving&key={api_key}'\n",
    "\n",
    "# 發送API請求\n",
    "response = requests.get(url)\n",
    "data = response.json()\n",
    "\n",
    "# 提取距離（公里）和時間（分鐘）\n",
    "if data['status'] == 'OK':\n",
    "    route = data['routes'][0]\n",
    "    leg = route['legs'][0]\n",
    "    distance_in_km = leg['distance']['value'] / 1000  # 轉換成公里\n",
    "    duration_in_minutes = leg['duration']['value'] / 60  # 轉換成分鐘\n",
    "    print(f\"Distance: {distance_in_km} km\")\n",
    "    print(f\"Duration: {duration_in_minutes} minutes\")\n",
    "else:\n",
    "    print(f\"Error: {data['status']}\")\n",
    "\n"
   ]
  },
  {
   "cell_type": "code",
   "execution_count": null,
   "metadata": {
    "id": "MxnvDvK-5Z0Y"
   },
   "outputs": [],
   "source": [
    "import requests\n",
    "import json\n",
    "\n",
    "# Load Google Maps API key\n",
    "try:\n",
    "    with open('/content/drive/MyDrive/google_key.json') as f:\n",
    "        google_key = json.load(f)\n",
    "    api_key = google_key['X-Goog-Api-Key_4']\n",
    "except FileNotFoundError as e:\n",
    "    print(f\"Error: The file was not found. {e}\")\n",
    "    exit()\n",
    "except KeyError as e:\n",
    "    print(f\"Error: The key was not found in the JSON file. {e}\")\n",
    "    exit()\n",
    "except json.JSONDecodeError as e:\n",
    "    print(f\"Error: JSON decoding failed. {e}\")\n",
    "    exit()\n",
    "\n",
    "# Set origin and destination coordinates\n",
    "origin = '37.419734,-122.0827784'\n",
    "destination = '37.417670,-122.079595'\n",
    "\n",
    "# Build API request URL\n",
    "url = f'https://maps.googleapis.com/maps/api/directions/json?origin={origin}&destination={destination}&mode=driving&key={api_key}'\n",
    "\n",
    "try:\n",
    "    # Send API request\n",
    "    response = requests.get(url)\n",
    "    response.raise_for_status()  # Raise an exception for HTTP errors\n",
    "    data = response.json()\n",
    "\n",
    "    # Extract distance (km) and duration (minutes)\n",
    "    if data['status'] == 'OK':\n",
    "        route = data['routes'][0]\n",
    "        leg = route['legs'][0]\n",
    "        distance_in_km = leg['distance']['value'] / 1000  # Convert to kilometers\n",
    "        duration_in_minutes = leg['duration']['value'] / 60  # Convert to minutes\n",
    "        print(f\"Distance: {distance_in_km} km\")\n",
    "        print(f\"Duration: {duration_in_minutes} minutes\")\n",
    "    else:\n",
    "        print(f\"Error: API response status is {data['status']}.\")\n",
    "        if 'error_message' in data:\n",
    "            print(f\"Error Message: {data['error_message']}\")\n",
    "except requests.exceptions.RequestException as e:\n",
    "    print(f\"HTTP Request failed: {e}\")\n",
    "except json.JSONDecodeError as e:\n",
    "    print(f\"Error decoding JSON response: {e}\")\n"
   ]
  },
  {
   "cell_type": "markdown",
   "metadata": {
    "id": "ZpVNmsRr9mDs"
   },
   "source": [
    "# Google Map API: actual drive time"
   ]
  },
  {
   "cell_type": "code",
   "execution_count": null,
   "metadata": {
    "id": "GPJ1PiAM9YxL"
   },
   "outputs": [],
   "source": [
    "start_datetime = datetime.now()\n",
    "print(f\"Script started at: {start_datetime.strftime('%Y-%m-%d %H:%M:%S')}\")\n",
    "start_time = time.time()\n",
    "wait_time = random.uniform(2, 5)"
   ]
  },
  {
   "cell_type": "code",
   "execution_count": null,
   "metadata": {
    "id": "KILaa-c99aT2"
   },
   "outputs": [],
   "source": [
    "# Zone Shape Dataframe\n",
    "\n",
    "zone_shape_df = client.query(f'''\n",
    "\n",
    "SELECT\n",
    "  zones.id,\n",
    "  zones.name,\n",
    "  zones.shape\n",
    "FROM `fulfillment-dwh-production.curated_data_shared.countries` AS countries\n",
    "LEFT JOIN countries.cities AS cities\n",
    "LEFT JOIN cities.zones AS zones\n",
    "WHERE countries.country_code = \"tw\"\n",
    "  AND zones.is_active\n",
    "  AND zones.name = \"Bali\"\n",
    "\n",
    "''').to_dataframe()\n",
    "\n",
    "zone_shape_df"
   ]
  },
  {
   "cell_type": "code",
   "execution_count": null,
   "metadata": {
    "id": "JOLqqbHM9cOr"
   },
   "outputs": [],
   "source": [
    "from shapely.wkt import loads\n",
    "import pandas as pd\n",
    "\n",
    "# Adjust Dataframe from string to polygon\n",
    "zone_shape_df['shape'] = zone_shape_df['shape'].apply(loads)"
   ]
  },
  {
   "cell_type": "code",
   "execution_count": null,
   "metadata": {
    "id": "nPLtGsYE9d3G"
   },
   "outputs": [],
   "source": [
    "# Points Dataframe\n",
    "\n",
    "point_df = client.query(f'''\n",
    "\n",
    "SELECT\n",
    "  *\n",
    "FROM `foodpanda-tw-bigquery.test.zone_locations`\n",
    "WHERE lg_zone_name = \"Bali\"\n",
    "\n",
    "''').to_dataframe()\n",
    "\n",
    "point_df"
   ]
  },
  {
   "cell_type": "code",
   "execution_count": null,
   "metadata": {
    "id": "O6-ihO5K9fmB"
   },
   "outputs": [],
   "source": [
    "# fp Active Vendor Dataframe\n",
    "\n",
    "active_vendor_df = client.query(f'''\n",
    "\n",
    "SELECT\n",
    "  vendor_code,\n",
    "  vendor_name,\n",
    "  vendors.longitude,\n",
    "  vendors.latitude\n",
    "FROM `fulfillment-dwh-production.pandata_report.country_TW_vdr_svc_vendors` AS vendors\n",
    "WHERE NOT vendors.is_testing\n",
    "  AND vendors.is_restaurants\n",
    "  AND vendors.is_active\n",
    "\n",
    "''').to_dataframe()\n",
    "\n",
    "active_vendor_df"
   ]
  },
  {
   "cell_type": "code",
   "execution_count": null,
   "metadata": {
    "id": "dRCABlCp9im5"
   },
   "outputs": [],
   "source": [
    "end_time = time.time()\n",
    "execution_time_seconds = end_time - start_time\n",
    "execution_time_minutes = execution_time_seconds / 60\n",
    "print(f\"Script completed in {execution_time_minutes:.2f} minutes.\")"
   ]
  },
  {
   "cell_type": "markdown",
   "metadata": {
    "id": "KS-7FBb79zys"
   },
   "source": [
    "# Upload dataframe to GCP"
   ]
  },
  {
   "cell_type": "code",
   "execution_count": null,
   "metadata": {
    "id": "fnS6iFnc922K"
   },
   "outputs": [],
   "source": [
    "!pip install pandas_gbq==0.20.0"
   ]
  },
  {
   "cell_type": "code",
   "execution_count": null,
   "metadata": {
    "id": "KS5s9fXw94Z2"
   },
   "outputs": [],
   "source": [
    "import pandas as pd\n",
    "from datetime import datetime\n",
    "import re\n",
    "import google.oauth2.credentials\n",
    "import pandas_gbq\n",
    "import json"
   ]
  },
  {
   "cell_type": "code",
   "execution_count": null,
   "metadata": {
    "id": "RRmB4KqC95_n"
   },
   "outputs": [],
   "source": [
    "f = open('user_account.json')\n",
    "credential = json.load(f)\n",
    "\n",
    "credentials = google.oauth2.credentials.Credentials(\n",
    "    credential['token'],\n",
    "    refresh_token=credential['refresh_token'],\n",
    "    token_uri=credential['token_uri'],\n",
    "    client_id=credential['client_id'],\n",
    "    client_secret=credential['client_secret']\n",
    "    )\n",
    "\n",
    "pandas_gbq.context.credentials = credentials"
   ]
  },
  {
   "cell_type": "code",
   "execution_count": null,
   "metadata": {
    "id": "4EdR_izI98cp"
   },
   "outputs": [],
   "source": [
    "project_id = \"database_name\"\n",
    "table_id = 'table_name'\n",
    "\n",
    "results_df.to_gbq(destination_table = table_id,\n",
    "              project_id = project_id,\n",
    "              credentials = credentials,\n",
    "              if_exists='append')"
   ]
  }
 ],
 "metadata": {
  "colab": {
   "private_outputs": true,
   "provenance": []
  },
  "kernelspec": {
   "display_name": "Python 3",
   "name": "python3"
  },
  "language_info": {
   "name": "python"
  }
 },
 "nbformat": 4,
 "nbformat_minor": 0
}
