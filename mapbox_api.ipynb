{
 "cells": [
  {
   "cell_type": "markdown",
   "metadata": {
    "id": "yqUn0UmJBfP_"
   },
   "source": [
    "# Environment Configuration"
   ]
  },
  {
   "cell_type": "code",
   "execution_count": null,
   "metadata": {
    "id": "z9RxYNGDBdgW"
   },
   "outputs": [],
   "source": [
    "from google.colab import drive\n",
    "drive.mount('/content/drive')\n",
    "import pandas as pd\n",
    "import numpy as np\n",
    "from scipy import stats\n",
    "from datetime import datetime\n",
    "from itertools import product\n",
    "\n",
    "from google.colab import auth\n",
    "from google.cloud import bigquery\n",
    "from gspread_dataframe import set_with_dataframe\n",
    "\n",
    "import gspread\n",
    "from oauth2client.client import GoogleCredentials\n",
    "from google.auth import default\n",
    "creds, _ = default()\n",
    "\n",
    "import pandas_gbq\n",
    "from tqdm import tqdm\n",
    "import time\n",
    "from datetime import datetime\n",
    "from shapely.geometry import Point, Polygon\n",
    "import time\n",
    "import random\n",
    "import json\n",
    "\n",
    "auth.authenticate_user()\n",
    "print('Authenticated')\n",
    "\n",
    "# Project Configuration\n",
    "project_id = 'foodpanda-tw-bigquery'\n",
    "client = bigquery.Client(project=project_id)"
   ]
  },
  {
   "cell_type": "code",
   "execution_count": null,
   "metadata": {
    "id": "eEUDBHWrNvBi"
   },
   "outputs": [],
   "source": [
    "start_datetime = datetime.now()\n",
    "print(f\"Script started at: {start_datetime.strftime('%Y-%m-%d %H:%M:%S')}\")\n",
    "start_time = time.time()"
   ]
  },
  {
   "cell_type": "markdown",
   "metadata": {
    "id": "2KKJGitV9u4b"
   },
   "source": [
    "# Mapbox API Test Area\n",
    "\n"
   ]
  },
  {
   "cell_type": "code",
   "execution_count": null,
   "metadata": {
    "id": "qF-W2yK8Trag"
   },
   "outputs": [],
   "source": [
    "import requests\n",
    "import geopandas as gpd\n",
    "import matplotlib.pyplot as plt\n",
    "from shapely.geometry import shape, Point\n",
    "\n",
    "# insert api key\n",
    "API_KEY = 'token_name'\n",
    "\n",
    "# target_point\n",
    "coords = [121.5654, 25.0330]  # Taipei 101\n",
    "\n",
    "# add point(longitude, latitude), drive time and api key\n",
    "url = f\"https://api.mapbox.com/isochrone/v1/mapbox/cycling/{coords[0]},{coords[1]}?contours_minutes=15&access_token={API_KEY}\"\n",
    "\n",
    "# send requests\n",
    "response = requests.get(url)\n",
    "data = response.json()\n",
    "\n",
    "# print response\n",
    "print(data)"
   ]
  },
  {
   "cell_type": "markdown",
   "metadata": {
    "id": "hUjWHvMNODN7"
   },
   "source": [
    "# Upload point_df"
   ]
  },
  {
   "cell_type": "code",
   "execution_count": null,
   "metadata": {
    "id": "iHfiQ8azOGMg"
   },
   "outputs": [],
   "source": [
    "# Points Dataframe\n",
    "\n",
    "point_df = client.query(f'''\n",
    "\n",
    "SELECT DISTINCT\n",
    "  longitude,\n",
    "  latitude,\n",
    "FROM zone_locations\n",
    "WHERE lg_city_name IN (\"Taitung\")\n",
    "\n",
    "''').to_dataframe()\n",
    "\n",
    "point_df"
   ]
  },
  {
   "cell_type": "markdown",
   "metadata": {
    "id": "8Bo-fkKxNd1j"
   },
   "source": [
    "# Main Script"
   ]
  },
  {
   "cell_type": "code",
   "execution_count": null,
   "metadata": {
    "id": "V-Isj1IxkBgL"
   },
   "outputs": [],
   "source": [
    "import requests\n",
    "import geopandas as gpd\n",
    "from shapely.geometry import LineString, Polygon\n",
    "import pandas as pd\n",
    "\n",
    "# Add Mapbox API key\n",
    "API_KEY = 'token_name'\n",
    "\n",
    "# Drive time range\n",
    "minutes_range = range(26, 46)\n",
    "\n",
    "# Initialize final results list\n",
    "results = []\n",
    "\n",
    "for idx, row in point_df.iterrows():\n",
    "    coords = [row['longitude'], row['latitude']]\n",
    "\n",
    "    for mins in minutes_range:\n",
    "        url = f\"https://api.mapbox.com/isochrone/v1/mapbox/cycling/{coords[0]},{coords[1]}?contours_minutes={mins}&access_token={API_KEY}\"\n",
    "        response = requests.get(url)\n",
    "        data = response.json()\n",
    "\n",
    "        # Print status\n",
    "        # print(f\"Fetching data for {mins} minutes for point {coords}...\")\n",
    "\n",
    "        # Check if the response contains 'features'\n",
    "        if 'features' in data and len(data['features']) > 0:\n",
    "            geometry = data['features'][0]['geometry']\n",
    "            if geometry['type'] == 'LineString':  # Change to 'Polygon'\n",
    "                coordinates = geometry['coordinates']  # Access outer ring of the Polygon\n",
    "                line = LineString(coordinates)\n",
    "                polygon = Polygon(coordinates).buffer(0.001)\n",
    "\n",
    "                # Append the valid polygon data to results\n",
    "                results.append({\n",
    "                    'point_latitude': coords[1],\n",
    "                    'point_longitude': coords[0],\n",
    "                    'mins': mins,\n",
    "                    'polygon': polygon\n",
    "                })\n",
    "            else:\n",
    "                print(f\"Expected a Polygon geometry type, but got {geometry['type']}.\")\n",
    "        else:\n",
    "            print(\"No 'features' key in the response or invalid response format.\")\n",
    "\n",
    "# Convert results to GeoDataFrame\n",
    "df = pd.DataFrame(results)\n",
    "\n",
    "print(\"The data has been successfully saved to the DataFrame.\")\n"
   ]
  },
  {
   "cell_type": "code",
   "execution_count": null,
   "metadata": {
    "id": "VOdCIydkUNrT"
   },
   "outputs": [],
   "source": [
    "df['polygon'] = df['polygon'].astype(str)\n",
    "df"
   ]
  },
  {
   "cell_type": "code",
   "execution_count": null,
   "metadata": {
    "id": "gsMxgGnUdnV4"
   },
   "outputs": [],
   "source": [
    "df.dtypes"
   ]
  },
  {
   "cell_type": "markdown",
   "metadata": {
    "id": "KS-7FBb79zys"
   },
   "source": [
    "# Upload dataframe to GCP"
   ]
  },
  {
   "cell_type": "code",
   "execution_count": null,
   "metadata": {
    "id": "abffe3j6LRLf"
   },
   "outputs": [],
   "source": [
    "!pip install pandas_gbq==0.20.0"
   ]
  },
  {
   "cell_type": "code",
   "execution_count": null,
   "metadata": {
    "id": "J8gaPt8yLW1E"
   },
   "outputs": [],
   "source": [
    "import pandas as pd\n",
    "from datetime import datetime\n",
    "import json\n",
    "import google.oauth2.credentials\n",
    "import pandas_gbq"
   ]
  },
  {
   "cell_type": "code",
   "execution_count": null,
   "metadata": {
    "id": "RslTQiBqXx10"
   },
   "outputs": [],
   "source": [
    "with open('/content/drive/MyDrive/user_account.json') as f:\n",
    "    credential = json.load(f)\n",
    "\n",
    "credentials = google.oauth2.credentials.Credentials(\n",
    "    credential['token'],\n",
    "    refresh_token=credential['refresh_token'],\n",
    "    token_uri=credential['token_uri'],\n",
    "    client_id=credential['client_id'],\n",
    "    client_secret=credential['client_secret']\n",
    ")"
   ]
  },
  {
   "cell_type": "code",
   "execution_count": null,
   "metadata": {
    "id": "e4SUz2tYLa-J"
   },
   "outputs": [],
   "source": [
    "pandas_gbq.context.credentials = credentials\n",
    "pandas_gbq.context.project = 'database_name'\n",
    "\n",
    "project_id = \"database_name\"\n",
    "table_id = 'table_name'\n",
    "\n",
    "df.to_gbq(\n",
    "    destination_table=table_id,\n",
    "    project_id=project_id,\n",
    "    credentials=credentials,\n",
    "    if_exists='append'\n",
    ")\n",
    "\n",
    "print(f\"Data has been uploaded to BigQuery table '{table_id}'.\")"
   ]
  },
  {
   "cell_type": "code",
   "execution_count": null,
   "metadata": {
    "id": "RgpeEO6QKu0s"
   },
   "outputs": [],
   "source": [
    "end_time = time.time()\n",
    "execution_time_seconds = end_time - start_time\n",
    "execution_time_minutes = execution_time_seconds / 60\n",
    "print(f\"Script completed in {execution_time_minutes:.2f} minutes.\")"
   ]
  }
 ],
 "metadata": {
  "colab": {
   "private_outputs": true,
   "provenance": []
  },
  "kernelspec": {
   "display_name": "Python 3",
   "name": "python3"
  },
  "language_info": {
   "name": "python"
  }
 },
 "nbformat": 4,
 "nbformat_minor": 0
}
